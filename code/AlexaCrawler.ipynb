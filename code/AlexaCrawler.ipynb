{
 "cells": [
  {
   "cell_type": "code",
   "execution_count": 2,
   "metadata": {},
   "outputs": [],
   "source": [
    "#!/usr/bin/env python\n",
    "'''This script crawls Alexa's top 50 US sites list and stores it in a csv file'''\n",
    "\n",
    "import requests\n",
    "from bs4 import BeautifulSoup\n",
    "import re\n",
    "\n",
    "__author__ = \"Aditya Godambe\"\n",
    "__email__ = \"agodambe@cs.stonybrook.edu\"\n",
    "\n",
    "\n",
    "url = \"https://www.alexa.com/topsites/countries/US\"\n",
    "\n",
    "r = requests.get(url)\n",
    "c = r.content\n",
    "\n",
    "soup = BeautifulSoup(c, \"html.parser\")\n",
    "\n",
    "all=soup.find_all(\"div\",{\"class\":\"td number\"})\n",
    "\n",
    "listingsTable=soup.find_all(\"div\",{\"class\":\"listings table\"})\n",
    "\n",
    "tr_site_listing=soup.find_all(\"div\",{\"class\":\"tr site-listing\"})\n",
    "\n",
    "#sites=[]\n",
    "\n",
    "with open(\"sites.csv\", 'a') as file:\n",
    "    for link in tr_site_listing:\n",
    "        site = link.find(\"a\").text\n",
    "        file.write(site + \"\\n\")"
   ]
  }
 ],
 "metadata": {
  "kernelspec": {
   "display_name": "Python 3",
   "language": "python",
   "name": "python3"
  },
  "language_info": {
   "codemirror_mode": {
    "name": "ipython",
    "version": 3
   },
   "file_extension": ".py",
   "mimetype": "text/x-python",
   "name": "python",
   "nbconvert_exporter": "python",
   "pygments_lexer": "ipython3",
   "version": "3.6.4"
  }
 },
 "nbformat": 4,
 "nbformat_minor": 2
}
